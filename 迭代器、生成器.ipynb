{
 "cells": [
  {
   "cell_type": "markdown",
   "id": "d3c74ca9",
   "metadata": {},
   "source": [
    "# 迭代器：你凭什么能for循环迭代列表和元组\n",
    "* 迭代器允许你创建可被迭代的对象，用于for循环等，比如对一个类迭代"
   ]
  },
  {
   "cell_type": "markdown",
   "id": "e7b2f859",
   "metadata": {},
   "source": [
    "## 定义\n",
    "迭代器是对可迭代对象的改造升级，一个对象定义了__iter__()方法，那么它就是可迭代对象\n",
    "如果一个对象同时实现了\\__iter__和\\__next__方法，那么它就是迭代器。"
   ]
  },
  {
   "cell_type": "code",
   "execution_count": 11,
   "id": "e9d27ccf",
   "metadata": {},
   "outputs": [
    {
     "name": "stdout",
     "output_type": "stream",
     "text": [
      "1\n",
      "2\n",
      "3\n"
     ]
    }
   ],
   "source": [
    "a=iter([1,2,3])\n",
    "for i in range(3):\n",
    "    print(next(a))"
   ]
  },
  {
   "cell_type": "markdown",
   "id": "36abe0ff",
   "metadata": {},
   "source": [
    "## 一般建议\\__iter__直接返回其本身，在next中再实现功能\n",
    "\\__next__的作用是返回遍历过程中的下一个元素，如果没有下一个元素则主动抛出StopIteration异常。\n",
    "* 相当于你可以在next定义每次迭代要做什么，返回什么\n",
    "* 迭代器会记住迭代到哪步了，比如你在i>10000停止，再次调用并不会从头开始，除非再次实例化"
   ]
  },
  {
   "cell_type": "code",
   "execution_count": 14,
   "id": "46acacde",
   "metadata": {},
   "outputs": [
    {
     "name": "stdout",
     "output_type": "stream",
     "text": [
      "1 1 2 3 5 8 13 21 34 55 89 144 233 377 610 987 1597 2584 4181 6765 "
     ]
    }
   ],
   "source": [
    "'''一个迭代生成斐波那契数列的类'''\n",
    "class Fib:\n",
    "    def __init__(self):\n",
    "        self.x0=0\n",
    "        self.x1=1\n",
    "    def __next__(self):\n",
    "        '''在next中定义行为'''\n",
    "        self.x0,self.x1=self.x1,self.x1+self.x0\n",
    "        return self.x0\n",
    "    def __iter__(self):\n",
    "        return self\n",
    "    \n",
    "fib=Fib()\n",
    "for i in fib:\n",
    "    if i>10000:\n",
    "        break\n",
    "    print(i,end=' ')"
   ]
  },
  {
   "cell_type": "markdown",
   "id": "5bfd3a27",
   "metadata": {},
   "source": [
    "# 生成器\n",
    "Python 生成器(Generators)是一种可以迭代对象,可以通过 yield 关键字将函数转化为生成器,本质上就是边循环边处理，实现任务可以暂停，接受信息，再进行，循环往复\n",
    "\n",
    "生成器的主要特征是:\n",
    "1. 使用 yield 关键字,而不是 return 语句返回结果\n",
    "2. 每次调用 next()或进行迭代,会继续执行已经暂停的函数,而不是从头开始执行。\n",
    "3. 生成器能够记住上一次的执行状态,并在下一次遍历时继续执行。\n",
    "4. 生成器只在被遍历读取时才会进行计算,不会提前生成全部值放在内存中。这种延迟计算的特性使得生成器可以处理那些不能放入内存的巨大的数据集。\n",
    "5. 当迭代到最后，开始迭代时后没有发现yield，会抛出异常StopIteration（可以捕捉并处理异常）"
   ]
  },
  {
   "cell_type": "markdown",
   "id": "2cf547f0",
   "metadata": {},
   "source": [
    "\n",
    "以下例子表明生成器一大优点，如果 nested_list 列表包含了数百万个子列表, flatten 函数就会生成一个数百万元素的大列表,占用大量内存。\n",
    "而使用 yield 的生成器版本不会有这个问题,它只会在遍历时逐个生成元素,不需要创建完整的大列表。"
   ]
  },
  {
   "cell_type": "code",
   "execution_count": 1,
   "id": "fdb5e0ce",
   "metadata": {},
   "outputs": [
    {
     "data": {
      "text/plain": [
       "1"
      ]
     },
     "execution_count": 1,
     "metadata": {},
     "output_type": "execute_result"
    }
   ],
   "source": [
    "'''例子：降维多维数组（其实用numpy的flatten方法使一样的）'''\n",
    "\n",
    "\n",
    "def flatten(lst):\n",
    "    '''生成一个生成器'''\n",
    "    for sublist in lst:\n",
    "        for element in sublist:\n",
    "            ''' yield element 会返回元素 element,并暂停函数执行。'''\n",
    "            yield element\n",
    "\n",
    "\n",
    "generator = flatten([[1, 2, 3],\n",
    "                     [9, 10],\n",
    "                     [1, 2, 4, 2]])\n",
    "next(generator)"
   ]
  },
  {
   "cell_type": "markdown",
   "id": "f69da625",
   "metadata": {},
   "source": [
    "## 递归的生成器\n",
    "1. 首先尝试将 lst + '',如果成功(lst 是字符串等),则抛出 TypeError。这是因为字符串不能迭代,不能调用 flatten。\n",
    "2. 如果 lst 不是字符串类对象,则遍历它的每一个子列表 sublist\n",
    "3. 对每个子列表递归调用 flatten,将其展开\n",
    "4. 从递归调用中生成的生成器中yield 每个元素,展开子列表\n",
    "5. 如果在第1步抛出了 TypeError,则直接 yield lst。这是因为如果 lst 是字符串等,不需要展开,直接返回。\n"
   ]
  },
  {
   "cell_type": "code",
   "execution_count": 30,
   "id": "e6089b66",
   "metadata": {},
   "outputs": [
    {
     "data": {
      "text/plain": [
       "[1, 2, 3, 2, 'saiko', 9, 2, 1, 'zetsubo', 19, 22, 3, 11]"
      ]
     },
     "execution_count": 30,
     "metadata": {},
     "output_type": "execute_result"
    }
   ],
   "source": [
    "def flatten(lst):\n",
    "    try:\n",
    "        '''检查是否lst为类似字符串的对象，若没异常（说明类似字符串），就抛出错误'''\n",
    "        try:\n",
    "            lst + ''\n",
    "        except TypeError:\n",
    "            pass\n",
    "        else:\n",
    "            raise TypeError\n",
    "        for sublist in lst:\n",
    "            for element in flatten(sublist):\n",
    "                yield element\n",
    "    except TypeError:\n",
    "        yield lst\n",
    "\n",
    "\n",
    "test = [[[[1, 2, 3], 2, 'saiko'], [9, 2], 1],'zetsubo', 19, [22, 3], 11] #我自己都不知道这嵌套了几层\n",
    "list(flatten(test))"
   ]
  },
  {
   "cell_type": "markdown",
   "id": "93e02995",
   "metadata": {},
   "source": [
    "## send方法\n",
    "send(value) 方法用于向生成器函数发送值。它允许你在生成器暂停的 yield 语句处注入一个值，成为yield表达式的值，并且自动触发next函数，返回生成器产生的下一个值\n",
    "\n",
    "**每次调用 generator.send(x) 时:**\n",
    "1. 生成器会执行到遇到的下一个 yield 语句\n",
    "1. 将 send 方法传入的值赋值给 yield 语句左边的变量（这时yield表现地像一个表达式，其值就是你send给它的对象）\n",
    "1. 继续执行直到碰到下一个yield，返回yield右边的对象的值（可以写某种操作，如加减乘除等）\n",
    "1. 挂起生成器，等待下次迭代\n",
    "* 仅当生成器被挂起（遇到第一个yield）后使用send才有意义，如果刚开始就想提供信息，可以传递None给它\n",
    "\n",
    "        如generator.send(None)或者next(generator)\n",
    "* 生成器相比迭代器允许用户与生成器进行通信，即用户send一个值，生成器yield一个结果给用户"
   ]
  },
  {
   "cell_type": "code",
   "execution_count": 52,
   "id": "17f594fc",
   "metadata": {},
   "outputs": [
    {
     "name": "stdout",
     "output_type": "stream",
     "text": [
      "0\n",
      "Received 1\n",
      "1\n"
     ]
    }
   ],
   "source": [
    "def count_to_ten():\n",
    "    num = 0\n",
    "    while num <= 10:\n",
    "        value = yield num\n",
    "        print(f'Received {value}')\n",
    "        num += 1\n",
    "\n",
    "generator = count_to_ten()\n",
    "print(generator.send(None))\n",
    "'''什么也没发，进入到下一个yield 返回num=0的值'''\n",
    "print(generator.send(1)) \n",
    "'''此时发送1给生成器，value被赋值为1,（此时num还是0）\n",
    "然后num+=1变成1，进入下一个yield，返回num=1'''\n"
   ]
  },
  {
   "cell_type": "markdown",
   "id": "613a1911",
   "metadata": {},
   "source": [
    "### 例子：一个对数据集所有矩阵进行矩阵乘法的例子，但我只要用一点数据就好，一次算太麻烦\n",
    "\n",
    "解释一下：\n",
    "1. 用next启动生成器，此时到达第一个yield，None被赋值给son，什么也不返回\n",
    "2. 传入数据，要计算的矩阵数据被赋值给son，然后计算乘法，yield返回值\n",
    "3. 继续向前，到达下一个yield（无限循环），挂起生成器等待下一次send"
   ]
  },
  {
   "cell_type": "code",
   "execution_count": 72,
   "id": "330a867a",
   "metadata": {},
   "outputs": [
    {
     "data": {
      "text/plain": [
       "[array([[ 1.3315865 ,  0.71527897],\n",
       "        [-1.54540029, -0.00838385]]),\n",
       " array([[ 0.62133597, -0.72008556],\n",
       "        [ 0.26551159,  0.10854853]]),\n",
       " array([[ 0.00429143, -0.17460021],\n",
       "        [ 0.43302619,  1.20303737]]),\n",
       " array([[-0.96506567,  1.02827408],\n",
       "        [ 0.22863013,  0.44513761]])]"
      ]
     },
     "execution_count": 72,
     "metadata": {},
     "output_type": "execute_result"
    }
   ],
   "source": [
    "import numpy as np\n",
    "\n",
    "np.random.seed(10)\n",
    "dataset = [np.random.randn(2, 2) for i in range(4)]\n",
    "dataset"
   ]
  },
  {
   "cell_type": "code",
   "execution_count": 76,
   "id": "8a45c782",
   "metadata": {},
   "outputs": [
    {
     "name": "stdout",
     "output_type": "stream",
     "text": [
      "[[-1.3315865  -0.71527897]\n",
      " [ 1.54540029  0.00838385]]\n",
      "[[-0.62133597  0.72008556]\n",
      " [-0.26551159 -0.10854853]]\n"
     ]
    }
   ],
   "source": [
    "def preprocess():\n",
    "    parent = np.array([[-1, 0], [0, -1]])\n",
    "    son = yield\n",
    "    while True:\n",
    "        son = yield son @ parent\n",
    "\n",
    "generator = preprocess()\n",
    "next(generator)  #启动生成器\n",
    "print(generator.send(dataset[0]))\n",
    "print(generator.send(dataset[1]))"
   ]
  },
  {
   "cell_type": "code",
   "execution_count": 77,
   "id": "bbbf3ec5",
   "metadata": {},
   "outputs": [
    {
     "name": "stdout",
     "output_type": "stream",
     "text": [
      "[[-1.3315865  -0.71527897]\n",
      " [ 1.54540029  0.00838385]]\n",
      "[[-0.62133597  0.72008556]\n",
      " [-0.26551159 -0.10854853]]\n",
      "[[-0.00429143  0.17460021]\n",
      " [-0.43302619 -1.20303737]]\n",
      "[[ 0.96506567 -1.02827408]\n",
      " [-0.22863013 -0.44513761]]\n"
     ]
    }
   ],
   "source": [
    "generator=preprocess()\n",
    "next(generator)\n",
    "for i in dataset:\n",
    "    print(generator.send(i))"
   ]
  },
  {
   "cell_type": "markdown",
   "id": "bd97524f",
   "metadata": {},
   "source": [
    "### 别人的例子"
   ]
  },
  {
   "cell_type": "code",
   "execution_count": 51,
   "id": "9d45f3ca",
   "metadata": {},
   "outputs": [
    {
     "name": "stdout",
     "output_type": "stream",
     "text": [
      "Price: 100\n",
      "Price: 240\n",
      "Price: 330\n",
      "Price: 180\n"
     ]
    }
   ],
   "source": [
    "def house_price(areas):\n",
    "    unit_price = yield # 接收初始的unit_price\n",
    "    for area in areas:\n",
    "        unit_price = yield unit_price * area\n",
    "'''在这段代码中，house_price 是一个生成器函数，\n",
    "接收一个 areas 列表作为输入参数。在函数内部，\n",
    "我们使用 yield 语句来定义生成器的行为。\n",
    "代码的第一行 unit_price = yield 是用于接收初始的 unit_price，\n",
    "即在调用生成器之后首次发送给生成器的值。\n",
    "之后，我们使用 for 循环遍历 areas 列表，\n",
    "每次迭代时都会使用 yield 语句来生成一个值。'''\n",
    "\n",
    "unit_prices = [1, 2, 3, 1]\n",
    "areas = [100, 120, 110, 180]\n",
    "hp = house_price(areas)\n",
    "hp.send(None) \n",
    "'''我们使用 hp.send(None) 来启动生成器，将其执行到第一个 yield 语句处。\n",
    "此时，生成器会等待接收初始的 unit_price。'''\n",
    "for unit_price in unit_prices:\n",
    "    cur_price = hp.send(unit_price)\n",
    "    print(f\"Price: {cur_price}\")\n",
    "    '''接下来的 for 循环用于遍历 unit_prices 列表中的每个元素。\n",
    "    在每次迭代时，我们使用 hp.send(unit_price)\n",
    "    将 unit_price 发送给生成器。生成器会接收这个值，\n",
    "    并执行乘法运算 unit_price * area，然后再次使用 yield 语句生成结果。'''\n"
   ]
  },
  {
   "cell_type": "markdown",
   "id": "8b7ac15d",
   "metadata": {},
   "source": [
    "## 八皇后问题\n",
    "思想：先在棋盘第一行放第一个皇后，再选择下一行为下一个皇后放位置，当发现无法为一个皇后放位置时，回溯到上一层为上一个皇后改变位置，再到下一步寻找可能位置，如果还不行就回溯到上一个皇后，直到可以。"
   ]
  },
  {
   "cell_type": "markdown",
   "id": "27ebe8fc",
   "metadata": {},
   "source": [
    "### 定义判断冲突函数"
   ]
  },
  {
   "cell_type": "code",
   "execution_count": 7,
   "id": "53ca8c31",
   "metadata": {},
   "outputs": [
    {
     "data": {
      "text/plain": [
       "14200"
      ]
     },
     "execution_count": 7,
     "metadata": {},
     "output_type": "execute_result"
    }
   ],
   "source": [
    "def conflict(state,nextX):\n",
    "    '''确定下一个皇后列位置，会不会和前面放好的皇后位置冲突,state为已经有的皇后位置\n",
    "    state[i]=j表示，第i行的皇后第在j列,注意将行列从0编号'''\n",
    "    nextY=len(state)\n",
    "    #nextY为下一个皇后在哪一行（如nextY=2表示在第二行，第一第零行已经摆好）\n",
    "    for i in range(nextY):\n",
    "        '''由于我们总在下一行放下一个皇后，所以不用加绝对值和判定两皇后是否在同一行\n",
    "        只要判断，state[i]-nextX即两皇后的水平距离是否为0（同列）\n",
    "        或者水平距离会不会等于垂直距离nextY-i（对角线）'''\n",
    "        if abs(state[i]-nextX) in (0,nextY-i):\n",
    "            return True\n",
    "    return False\n",
    "\n",
    "def queens(num=8,state=()):\n",
    "    for pos in range(num):\n",
    "        '''对于每个可能的列位置'''\n",
    "        if not conflict(state,pos):\n",
    "            if len(state)==num-1:\n",
    "                '''如果不冲突且是最后一个皇后，返回其位置的元组\n",
    "                这个元组会被作为最后一个pos插入到(pos,)+result\n",
    "                并作为结果返回'''\n",
    "                yield (pos,)\n",
    "            else:\n",
    "                for result in queens(num,state+(pos,)):\n",
    "                    '''如果不冲突且还没到最后一个皇后，将当前合法的皇后位置插入state'''\n",
    "                    yield (pos,)+result\n",
    "len(list(queens(12)))"
   ]
  }
 ],
 "metadata": {
  "kernelspec": {
   "display_name": "Python 3 (ipykernel)",
   "language": "python",
   "name": "python3"
  },
  "language_info": {
   "codemirror_mode": {
    "name": "ipython",
    "version": 3
   },
   "file_extension": ".py",
   "mimetype": "text/x-python",
   "name": "python",
   "nbconvert_exporter": "python",
   "pygments_lexer": "ipython3",
   "version": "3.9.13"
  },
  "toc": {
   "base_numbering": 1,
   "nav_menu": {},
   "number_sections": true,
   "sideBar": true,
   "skip_h1_title": false,
   "title_cell": "Table of Contents",
   "title_sidebar": "Contents",
   "toc_cell": false,
   "toc_position": {},
   "toc_section_display": true,
   "toc_window_display": false
  }
 },
 "nbformat": 4,
 "nbformat_minor": 5
}
