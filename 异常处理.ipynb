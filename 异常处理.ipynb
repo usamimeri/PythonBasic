{
 "cells": [
  {
   "attachments": {},
   "cell_type": "markdown",
   "id": "24a4d4cf",
   "metadata": {},
   "source": [
    "# 异常处理\n",
    "**为什么要异常处理**\n",
    "1. 通过异常处理,可以使程序在出现异常情况时不会崩溃,可以继续运行或退回到正常状态。\n",
    "    > 比如你在下载一系列文件，你肯定希望不要因为一个下载失败整个程序崩溃\n",
    "2. 提高用户体验。通过异常处理,可以在异常发生时给用户友好的提示信息,而不是直接程序崩溃。\n",
    "    > 比如连接网址失败，你可以告诉用户发生了什么而不是一个HTTPERROR\n",
    "\n",
    "**思想**\n",
    "\n",
    "1. 使用 try/except 语句进行异常捕获。try 语句块中放置可能发生异常的代码,except 语句块中处理对应异常。\n",
    "2. 进行异常分类捕获。可以根据不同的异常类型进行不同的处理。\n",
    "3. 只捕获需要处理的异常。不需要处理的异常可以交给上层调用者处理或直接崩溃。\n",
    "4. 进行清理工作。通过 finally 语句块,可以在异常发生与否都执行一些清理工作,如关闭文件等。"
   ]
  },
  {
   "attachments": {},
   "cell_type": "markdown",
   "id": "1e596c05",
   "metadata": {},
   "source": [
    "## 捕获所有异常\n",
    "这不是一个好的习惯，因为你不知道发生了什么异常，无法对捕获的特定异常进行处理"
   ]
  },
  {
   "cell_type": "code",
   "execution_count": 1,
   "id": "ff14c7ba",
   "metadata": {},
   "outputs": [
    {
     "name": "stdout",
     "output_type": "stream",
     "text": [
      "你在做什么\n"
     ]
    }
   ],
   "source": [
    "try:\n",
    "    1/0\n",
    "except:\n",
    "    print('你在做什么')"
   ]
  },
  {
   "attachments": {},
   "cell_type": "markdown",
   "id": "3b7aadf4",
   "metadata": {},
   "source": [
    "## 捕获多个异常\n",
    "可以对多个异常进行不同操作\n",
    "\n",
    "如果发生的异常与 except 子句中的类是同一个类或是它的基类时，则该类与该异常相兼容（反之则不成立 --- 列出派生类的 except 子句 与基类不兼容）"
   ]
  },
  {
   "cell_type": "code",
   "execution_count": 10,
   "id": "e6161218",
   "metadata": {},
   "outputs": [
    {
     "name": "stdout",
     "output_type": "stream",
     "text": [
      "请输入卡牌数(1-13)a\n",
      "输入一点人能看懂的\n"
     ]
    }
   ],
   "source": [
    "try:\n",
    "    x=int(input('请输入卡牌数(1-13)'))\n",
    "    1/x\n",
    "except ZeroDivisionError:\n",
    "    print('不可以为0')\n",
    "except TypeError:\n",
    "    print('不可以乱打')\n",
    "except ValueError:\n",
    "    print('输入一点人能看懂的')"
   ]
  },
  {
   "attachments": {},
   "cell_type": "markdown",
   "id": "dcf5f0a1",
   "metadata": {},
   "source": [
    "## 用元组捕获多个异常\n",
    "当发生其中一个异常时，进行某种动作\n",
    "\n",
    "坏处：缺点是不能个性化展示异常提示。"
   ]
  },
  {
   "cell_type": "code",
   "execution_count": 11,
   "id": "5b5e40d5",
   "metadata": {},
   "outputs": [
    {
     "name": "stdout",
     "output_type": "stream",
     "text": [
      "请输入卡牌数(1-13)0\n",
      "我呃呃\n"
     ]
    }
   ],
   "source": [
    "try:\n",
    "    x=int(input('请输入卡牌数(1-13)'))\n",
    "    1/x\n",
    "except (ZeroDivisionError,TypeError,ValueError):\n",
    "    print('我呃呃')\n",
    "    "
   ]
  },
  {
   "attachments": {},
   "cell_type": "markdown",
   "id": "3ab17bd4",
   "metadata": {},
   "source": [
    "## 直接打印异常"
   ]
  },
  {
   "cell_type": "code",
   "execution_count": 13,
   "id": "a92fbc0c",
   "metadata": {},
   "outputs": [
    {
     "name": "stdout",
     "output_type": "stream",
     "text": [
      "请输入卡牌数(1-13)a\n",
      "invalid literal for int() with base 10: 'a'\n"
     ]
    }
   ],
   "source": [
    "try:\n",
    "    x=int(input('请输入卡牌数(1-13)'))\n",
    "    1/x\n",
    "except (ZeroDivisionError,TypeError,ValueError) as e:\n",
    "    print(e)"
   ]
  },
  {
   "attachments": {},
   "cell_type": "markdown",
   "id": "d8124d6e",
   "metadata": {},
   "source": [
    "## 访问异常信息\n",
    "如果程序需要在 except 块中访问异常对象的相关信息，则可通过为异常对象声明变量来实现。\n",
    "\n",
    "1. args：该属性返回异常的错误编号和描述字符串。\n",
    "2. errno：该属性返回异常的错误编号。\n",
    "3. strerror：该属性返回异常的描述宇符串。\n",
    "4. with_traceback()：通过该方法可处理异常的传播轨迹信息。"
   ]
  },
  {
   "cell_type": "code",
   "execution_count": 2,
   "id": "87d1de2c",
   "metadata": {},
   "outputs": [
    {
     "name": "stdout",
     "output_type": "stream",
     "text": [
      "(2, 'No such file or directory')\n",
      "2\n",
      "No such file or directory\n"
     ]
    }
   ],
   "source": [
    "def foo():\n",
    "    try:\n",
    "        fis = open(\"a.txt\");\n",
    "    except Exception as e:\n",
    "        # 访问异常的错误编号和详细信息\n",
    "        print(e.args)\n",
    "        # 访问异常的错误编号\n",
    "        print(e.errno)\n",
    "        # 访问异常的详细信息\n",
    "        print(e.strerror)\n",
    "foo()"
   ]
  },
  {
   "attachments": {},
   "cell_type": "markdown",
   "id": "ec18c0e4",
   "metadata": {},
   "source": [
    "## 自定义异常\n",
    "异常类可以被定义成能做其他类所能做的任何事，但通常应当保持简单，它往往只提供一些属性，允许相应的异常处理程序提取有关错误的信息。\n",
    "\n",
    "自定义异常必须继承基类：Exception\n",
    "\n",
    "可以在初始化自定义异常时附加数据，然后就能使用异常的数据了（本质就是类）\n"
   ]
  },
  {
   "cell_type": "code",
   "execution_count": null,
   "id": "43ed7ab5",
   "metadata": {},
   "outputs": [],
   "source": [
    "class APIError(Exception):\n",
    "    def __init__(self, status, message):\n",
    "        self.status = status\n",
    "        self.message = message\n",
    "\n",
    "class UserNotFoundError(APIError):\n",
    "    pass \n",
    "\n",
    "class ValidationError(APIError):\n",
    "    pass   \n",
    "\n",
    "\n",
    "def get_user(username):\n",
    "    if user_not_found(username):\n",
    "        raise UserNotFoundError(status=404, message=\"User not found\")\n",
    "    elif invalid_username(username): \n",
    "        raise ValidationError(status=400, message=\"Invalid username\") \n",
    "    else:\n",
    "        return get_user_from_db(username)\n",
    "\n",
    "try: \n",
    "    get_user('invalid_name')\n",
    "except ValidationError as err:\n",
    "    print(err.status) # 400\n",
    "    print(err.message) # Invalid username\n",
    "except UserNotFoundError as err:\n",
    "    print(err.status) # 404\n",
    "    print(err.message) # User not found "
   ]
  }
 ],
 "metadata": {
  "kernelspec": {
   "display_name": "Python 3 (ipykernel)",
   "language": "python",
   "name": "python3"
  },
  "language_info": {
   "codemirror_mode": {
    "name": "ipython",
    "version": 3
   },
   "file_extension": ".py",
   "mimetype": "text/x-python",
   "name": "python",
   "nbconvert_exporter": "python",
   "pygments_lexer": "ipython3",
   "version": "3.9.13"
  },
  "toc": {
   "base_numbering": 1,
   "nav_menu": {},
   "number_sections": true,
   "sideBar": true,
   "skip_h1_title": false,
   "title_cell": "Table of Contents",
   "title_sidebar": "Contents",
   "toc_cell": false,
   "toc_position": {},
   "toc_section_display": true,
   "toc_window_display": false
  }
 },
 "nbformat": 4,
 "nbformat_minor": 5
}
