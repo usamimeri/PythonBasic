{
 "cells": [
  {
   "attachments": {},
   "cell_type": "markdown",
   "id": "cea10f18",
   "metadata": {},
   "source": [
    "# 魔法方法\n",
    "python中的魔法方法是指方法名以两个下划线开头并以两个下划线结尾的方法，因此也叫Dunder Methods (Double Underscores)。常用于运算符重载。魔法方法会在对类的某个操作时后端自动调用，而不需要自己直接调用。例如当使用+将两个数字相加时，在类内部会调用__add__()方法，再比如创建一个类A的对象，a=A()，python就会自动调用__new__和__init__。\n",
    "\n",
    "\n",
    "[具体介绍](https://blog.csdn.net/itlilyer/article/details/122470719)\n",
    "\n"
   ]
  },
  {
   "attachments": {},
   "cell_type": "markdown",
   "id": "cb34eec8",
   "metadata": {},
   "source": [
    "## 初始化和构造\n",
    "1. _new_(cls, other)\t是在对象实例化时第一个被调用的方法。它的主要作用是创建对象并返回对象,通常在这个方法中调用`super().__new__(cls)`来创建对象。\n",
    "\n",
    "2. _init_(self, other)\t是在对象实例化后立即被调用的初始化方法。它的作用是对已经实例化的对象进行初始化设置,为对象的使用做准备。\n",
    "\n",
    "3. _del_(self)\t对象的析构方法\n",
    "\n",
    "\n",
    "__new__至少有一个参数cls,代表当前类\n",
    "\n",
    "__new__必须要有返回值,返回创建的对象\n",
    "\n",
    "__init__必须有一个参数self,这个是__new__的返回值, __init__不需要返回值\n",
    "\n",
    "**new作用**\n",
    "1. 可以在创建对象之前做一些校验或处理,然后决定是否需要创建这个对象。如果不需要,可以返回别的对象或直接返回None。"
   ]
  },
  {
   "cell_type": "code",
   "execution_count": 3,
   "id": "bd82974e",
   "metadata": {},
   "outputs": [
    {
     "name": "stdout",
     "output_type": "stream",
     "text": [
      "__new__ called\n",
      "__init__ called\n",
      "Jack\n",
      "这里先调用了new然后才是init\n"
     ]
    }
   ],
   "source": [
    "class Person:\n",
    "    def __new__(cls, *args, **kwargs):\n",
    "        print('__new__ called')\n",
    "        return super().__new__(cls)\n",
    "    \n",
    "    def __init__(self, name):\n",
    "        print('__init__ called')\n",
    "        self.name = name\n",
    "    def call_name(self):\n",
    "        print(self.name)\n",
    "\n",
    "p = Person('Jack')\n",
    "p.call_name()\n",
    "print('这里先调用了new然后才是init')"
   ]
  },
  {
   "attachments": {},
   "cell_type": "markdown",
   "id": "488ab41a",
   "metadata": {},
   "source": [
    "实现单例模式\n",
    "\n",
    "单例模式(Singleton Pattern)是一种设计模式,意图是让一个类只有一个实例对象。"
   ]
  },
  {
   "cell_type": "code",
   "execution_count": 7,
   "id": "ee38455c",
   "metadata": {},
   "outputs": [
    {
     "name": "stdout",
     "output_type": "stream",
     "text": [
      "成功创建对象\n",
      "Only one instance allowed!\n"
     ]
    }
   ],
   "source": [
    "class OnlyOne:\n",
    "    '''单例模式'''\n",
    "    __instance = None\n",
    "    def __new__(cls):\n",
    "        if OnlyOne.__instance is None:\n",
    "            OnlyOne.__instance = super().__new__(cls)\n",
    "            print('成功创建对象')\n",
    "            return OnlyOne.__instance\n",
    "        else:\n",
    "            raise ValueError('Only one instance allowed!')\n",
    "a=OnlyOne()\n",
    "try:\n",
    "    b=OnlyOne()\n",
    "except ValueError as e:\n",
    "    print(e)"
   ]
  },
  {
   "attachments": {},
   "cell_type": "markdown",
   "id": "6858c4b7",
   "metadata": {},
   "source": [
    "## 一元操作符\n",
    "这里就体现了运算符重载的特点，我们可以让类对某些运算符做出反应，典型的例子就是列表可以相加\n",
    "\n",
    "<table><thead><tr><th>方法名</th><th>描述</th></tr></thead><tbody><tr><td>_<em>pos</em>_(self)</td><td>会被取正操作符调用,例如 +a</td></tr><tr><td>_<em>neg</em>_(self)</td><td>会被取反操作符调用,例如 -a</td></tr><tr><td>_<em>abs</em>_(self)</td><td>在调用内置函数abs()的时候被调用, 取绝对值</td></tr><tr><td>_<em>invert</em>_(self)</td><td>在使用~操作符的时候被调用, 按位取反</td></tr><tr><td>_<em>round</em>_(self, n)</td><td>执行内置函数round()的时候被调用, 四舍五入取近似值,n为小数位数</td></tr><tr><td>_<em>floor</em>_(self)</td><td>执行内置函数math.floor()的时候被调用, 取小于等于该值的最大整数</td></tr><tr><td>_<em>ceil</em>_(self)</td><td>执行内置函数math.ceil()时被调用,取大于等于该值的最小整数</td></tr><tr><td>_<em>trunc</em>_(self)</td><td>执行math.trunc()函数时被调用, 取该值的截断整数</td></tr></tbody></table>"
   ]
  },
  {
   "attachments": {},
   "cell_type": "markdown",
   "id": "c1f04bd6",
   "metadata": {},
   "source": [
    "这里self就代表了这个类"
   ]
  },
  {
   "cell_type": "code",
   "execution_count": 22,
   "id": "8ff7133e",
   "metadata": {},
   "outputs": [
    {
     "name": "stdout",
     "output_type": "stream",
     "text": [
      "[1, 23, -2, 9, -90, 0]\n",
      "[-1, -23, -2, -9, -90, 0]\n",
      "[1, 23]\n"
     ]
    }
   ],
   "source": [
    "class Mylist(list):\n",
    "    def __init__(self, mylist):\n",
    "        super().__init__(mylist)\n",
    "        #继承父类的所有方法,这里self就代表类\n",
    "    def __pos__(self):\n",
    "        return [abs(i) for i in self]\n",
    "    def __pos__(self):\n",
    "        return [-i if i>=0 else i for i in self ]\n",
    "    def __round__(self,n):\n",
    "        # 一个实现截断的函数\n",
    "        return self[:n]\n",
    "\n",
    "a=Mylist([1,23,-2,9,-90,0])\n",
    "print(a)\n",
    "print(+a)\n",
    "print(round(a,2))"
   ]
  },
  {
   "cell_type": "markdown",
   "id": "f6759186",
   "metadata": {},
   "source": [
    "## 当类表现地很像序列时，试图用len访问类长度，就可以编写__len__方法"
   ]
  },
  {
   "cell_type": "code",
   "execution_count": 24,
   "id": "95d028db",
   "metadata": {},
   "outputs": [
    {
     "data": {
      "text/plain": [
       "3"
      ]
     },
     "execution_count": 24,
     "metadata": {},
     "output_type": "execute_result"
    }
   ],
   "source": [
    "class StudentName:\n",
    "    def __init__(self,*names):\n",
    "        self.names=names\n",
    "    def __len__(self):\n",
    "        return len(self.names)\n",
    "    \n",
    "test=StudentName('bob','jerf','zwj')\n",
    "len(test)"
   ]
  },
  {
   "cell_type": "markdown",
   "id": "49b27188",
   "metadata": {},
   "source": [
    "## 一般如果想使用索引访问元素时\n",
    "可以在类中定义这个方法（__getitem__(self, key) ），索引会被传入给这个函数"
   ]
  },
  {
   "cell_type": "code",
   "execution_count": 9,
   "id": "1588a516",
   "metadata": {},
   "outputs": [
    {
     "data": {
      "text/plain": [
       "'警报警报，非法访问源头：9'"
      ]
     },
     "execution_count": 9,
     "metadata": {},
     "output_type": "execute_result"
    }
   ],
   "source": [
    "class Alarm:\n",
    "    def __init__(self):\n",
    "        self.warn='警报警报，非法访问源头：'\n",
    "    def __getitem__(self,key):\n",
    "        return self.warn+f'{key}'\n",
    "a=Alarm()\n",
    "a[9]"
   ]
  },
  {
   "cell_type": "markdown",
   "id": "37e5278a",
   "metadata": {},
   "source": [
    "## 运算符重载式的魔术方法允许在执行对象加减时有不同反应"
   ]
  },
  {
   "cell_type": "code",
   "execution_count": 12,
   "id": "bb267806",
   "metadata": {},
   "outputs": [
    {
     "name": "stdout",
     "output_type": "stream",
     "text": [
      "欧几里得距离为1.4142135623730951,曼哈顿距离为2\n"
     ]
    }
   ],
   "source": [
    "#例子：定义加号是计算两点之间的欧几里得距离，减号是曼哈顿距离\n",
    "import math\n",
    "class Coordinate:\n",
    "    def __init__(self,x,y):\n",
    "        self.x=x\n",
    "        self.y=y\n",
    "    def __add__(self,other):\n",
    "        '''相当于重写+，其中other为另一个对象，在执行+时被传入这里'''\n",
    "        return math.sqrt((self.x-other.x)**2+(self.y-other.y)**2)\n",
    "    def __sub__(self,other):\n",
    "        return abs(self.x-other.x)+abs(self.y-other.y)\n",
    "\n",
    "a=Coordinate(1,1)\n",
    "b=Coordinate(0,0)\n",
    "\n",
    "print(f'欧几里得距离为{a+b},曼哈顿距离为{a-b}')\n",
    "    \n",
    "        "
   ]
  },
  {
   "cell_type": "markdown",
   "id": "db9fa394",
   "metadata": {},
   "source": [
    "## property是一个重要函数，可以让方法像属性一样工作\n",
    "例如：我有个名单可以存储qq号和名字，如果我每次都要设置qq号和名字，再读取，就比较麻烦。我可以设置一个属性直接实现两个方法，且在删除时有提示\n",
    "\n",
    "* 在这里 info表现地像属性，我可以获取它的值，修改它的值，删除它，而不需要改动构成它的属性来修改info"
   ]
  },
  {
   "cell_type": "code",
   "execution_count": 31,
   "id": "245e8280",
   "metadata": {},
   "outputs": [
    {
     "data": {
      "text/plain": [
       "('1710269958', 'xiaofei')"
      ]
     },
     "execution_count": 31,
     "metadata": {},
     "output_type": "execute_result"
    }
   ],
   "source": [
    "class Memo:\n",
    "    def __init__(self,qq,name):\n",
    "        self.qq=qq\n",
    "        self.name=name\n",
    "    def get_info(self):\n",
    "        return self.qq,self.name\n",
    "    def set_info(self,args):\n",
    "        self.qq,self.name=args\n",
    "    def delete_info(self): \n",
    "        print( f'您删除了信息{self.name}:{self.qq}')\n",
    "        \n",
    "    info=property(get_info,set_info,delete_info)\n",
    "    '''当删除info时，第三个自动会被调用'''\n",
    "a=Memo('1710269958','xiaofei')\n",
    "a.info\n"
   ]
  },
  {
   "cell_type": "code",
   "execution_count": 32,
   "id": "338751f6",
   "metadata": {},
   "outputs": [
    {
     "data": {
      "text/plain": [
       "'10086'"
      ]
     },
     "execution_count": 32,
     "metadata": {},
     "output_type": "execute_result"
    }
   ],
   "source": [
    "a.info='10086','spam'\n",
    "a.qq"
   ]
  },
  {
   "cell_type": "code",
   "execution_count": 33,
   "id": "dc969119",
   "metadata": {},
   "outputs": [
    {
     "name": "stdout",
     "output_type": "stream",
     "text": [
      "您删除了信息spam:10086\n"
     ]
    }
   ],
   "source": [
    "del a.info"
   ]
  },
  {
   "cell_type": "markdown",
   "id": "609d6686",
   "metadata": {},
   "source": [
    "\n",
    "## 静态方法和类方法\n",
    "* 类方法是类对象所拥有的方法，需要用修饰器@classmethod来标识其为类方法一般以cls作为第一个参数\n",
    "* 静态方法需要通过修饰器@staticmethod来进行修饰，静态方法不需要多定义参数\n",
    "* 类方法可以访问\n",
    "    * 类变量：如Person.message\n",
    "    * 其他类方法\n",
    "* 类方法不可以访问\n",
    "    * 实例方法:带self的\n",
    "    * 实例变量\n",
    "* 可以被调用\n",
    "    * 类调用：Person.info()  （即使在类中）\n",
    "    * 实例调用：实例名.info()  \n",
    "\n",
    "* 静态方法可以访问\n",
    "    * 类变量\n",
    "    * 其他静态方法\n",
    "* 静态方法不可以访问\n",
    "    * 类方法\n",
    "    * 实例变量\n",
    "    * 实例方法\n",
    "* 可以被调用\n",
    "    * 类调用：Person.info()  （即使在类中）\n",
    "    * 实例调用：实例名.info()      \n",
    "\n"
   ]
  },
  {
   "cell_type": "markdown",
   "id": "3a6de1f1",
   "metadata": {},
   "source": [
    "### 直观解释\n",
    "静态方法就像进食这个动作，他不需要知道你是不是人（类变量），或者你的饮食偏好（实例变量）。所有生物都要吃饭\n",
    "\n",
    "类方法像进食人可以吃的食物，他需要知道你是人，但不需要知道饮食偏好"
   ]
  },
  {
   "cell_type": "code",
   "execution_count": 16,
   "id": "86561cf5",
   "metadata": {},
   "outputs": [],
   "source": [
    "class App:\n",
    "    platform='Android'    #类变量，所有实例都有的变量\n",
    "    def __init__(self,name,age):\n",
    "        self.age=age\n",
    "        self.name=name #创建实例变量\n",
    "    def __combine(self):\n",
    "        '''私有方法'''\n",
    "        return {self.name:self.age}  \n",
    "    @staticmethod\n",
    "    def show_title():\n",
    "        print('这个是一个静态方法，它无法引用类变量或实例变量,\\n适合做一些不需要用它们的事情，可以节省内存')\n",
    "    \n",
    "    @classmethod\n",
    "    def show_info(cls):\n",
    "        print(App.platform)\n",
    "        '''必须这样来访问类变量，而不是self或单纯变量名'''\n",
    "        \n",
    "app=App('zwj','19')   \n"
   ]
  },
  {
   "cell_type": "code",
   "execution_count": 14,
   "id": "e0c438d3",
   "metadata": {},
   "outputs": [
    {
     "name": "stdout",
     "output_type": "stream",
     "text": [
      "Android\n",
      "Android\n"
     ]
    },
    {
     "data": {
      "text/plain": [
       "(None, None)"
      ]
     },
     "execution_count": 14,
     "metadata": {},
     "output_type": "execute_result"
    }
   ],
   "source": [
    "app.show_info(),App.show_info()"
   ]
  },
  {
   "cell_type": "code",
   "execution_count": 17,
   "id": "ee5136e0",
   "metadata": {},
   "outputs": [
    {
     "name": "stdout",
     "output_type": "stream",
     "text": [
      "这个是一个静态方法，它无法引用类变量或实例变量,\n",
      "适合做一些不需要用它们的事情，可以节省内存\n"
     ]
    }
   ],
   "source": [
    "App.show_title()"
   ]
  },
  {
   "cell_type": "markdown",
   "id": "79144990",
   "metadata": {},
   "source": [
    "### 注意这里有个问题，对于私有方法，子类不会继承"
   ]
  },
  {
   "cell_type": "code",
   "execution_count": 33,
   "id": "36948fa3",
   "metadata": {},
   "outputs": [
    {
     "name": "stdout",
     "output_type": "stream",
     "text": [
      "{'john': '19'}\n",
      "Android\n",
      "这个是一个静态方法，它无法引用类变量或实例变量,\n",
      "适合做一些不需要用它们的事情，可以节省内存\n"
     ]
    }
   ],
   "source": [
    "class App_new(App):\n",
    "    def __init__(self,name,age):\n",
    "        super().__init__(name,age)\n",
    "    def __combine(self):\n",
    "        return {self.name:self.age}\n",
    "    def run(self):\n",
    "        '''调用私有方法和类方法和静态方法'''\n",
    "        print(self.__combine())\n",
    "        App.show_info()\n",
    "        App.show_title()\n",
    "app=App_new('john','19')\n",
    "app.run()"
   ]
  },
  {
   "cell_type": "code",
   "execution_count": null,
   "id": "a3611333",
   "metadata": {},
   "outputs": [],
   "source": []
  }
 ],
 "metadata": {
  "kernelspec": {
   "display_name": "Python 3 (ipykernel)",
   "language": "python",
   "name": "python3"
  },
  "language_info": {
   "codemirror_mode": {
    "name": "ipython",
    "version": 3
   },
   "file_extension": ".py",
   "mimetype": "text/x-python",
   "name": "python",
   "nbconvert_exporter": "python",
   "pygments_lexer": "ipython3",
   "version": "3.9.13"
  },
  "toc": {
   "base_numbering": 1,
   "nav_menu": {},
   "number_sections": true,
   "sideBar": true,
   "skip_h1_title": false,
   "title_cell": "Table of Contents",
   "title_sidebar": "Contents",
   "toc_cell": false,
   "toc_position": {},
   "toc_section_display": true,
   "toc_window_display": false
  }
 },
 "nbformat": 4,
 "nbformat_minor": 5
}
